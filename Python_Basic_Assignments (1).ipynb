{
  "nbformat": 4,
  "nbformat_minor": 0,
  "metadata": {
    "colab": {
      "provenance": []
    },
    "kernelspec": {
      "name": "python3",
      "display_name": "Python 3"
    },
    "language_info": {
      "name": "python"
    }
  },
  "cells": [
    {
      "cell_type": "markdown",
      "source": [
        "1. What is Python, and why is it popular?\n",
        "\n",
        "   - Python is a high level,general -purpose programming language known for its readability and versatility and strong community support.\n",
        "2. What is an interpreter in Python?\n",
        "\n",
        "   - Interpreter is aprogram that reads and execute python code line by line it translate high level python code in to machine readalbe code\n",
        "3. What are pre-defined keywords in Python?\n",
        "\n",
        "  - Predefined keyword in python is print(),round(),abs(),pow()int(),float() etc.\n",
        "4. Can keywords be used as variable names?\n",
        "\n",
        " - No a keyword can not be used as variable name .\n",
        "5. What is mutability in Python?\n",
        "\n",
        " - Mutability in python reffers to ability of an object to be modified after its created\n",
        "6. Why are lists mutable, but tuples are immutable?\n",
        "\n",
        "  - In list we can modify but in tuples we can not modify thats the reason lists are mutable and tuples are immutable\n",
        "7. What is the difference between “==” and “is” operators in Python?\n",
        "\n",
        "    - \"==\" is known as equality operator and \"is\" is known as identity operator,\"==\" helps us to compare the equality of object Is operator helps us check whether different variables point towards a similar object in the memory.\n",
        "8. What are logical operators in Python?\n",
        "  - Logical operator in python is AND OR and NOT.\n",
        "9. What is type casting in Python?\n",
        " - Type casting is known as type conversion, it is the process of changing a variable's data type from one type to another.\n",
        "10. What is the difference between implicit and explicit type casting?\n",
        "\n",
        " - Explicit type conversion in programming is done manually by the programmer, while implicit conversion is handled automatically by the compile\n",
        "11. What is the purpose of conditional statements in Python?\n",
        " - The purpose of conditional statement is  control the flow of execution by evaluating conditions and executing specific blocks of code based on whether the condition is true or false.\n",
        "12. How does the elif statement work?\n",
        " - The elief in python is also stands as \"else if\"  It can be used in conditional statements to check for multiple conditions\n",
        " example:-if the 1st condition is false than it moves to next elif statement to check if that condition is true.\n",
        "13. What is the difference between for and while loops?\n",
        "  - For loop is used when we know exactly how many times the loop will execute  -while loops is used when the number of iterations is unknown and depends on a dynamic condition.\n",
        "14. Describe a scenario where a while loop is more suitable than a for loop.\n",
        "  - When you need to iterate until a certain condition is met, but the number of iterations is not known beforehand.\n",
        "  scenario-A program needs to repeatedly ask the user for a number until they enter a positive integer.\n",
        "\n",
        "\n",
        "\n",
        "\n",
        "\n",
        "\n",
        "\n",
        "\n",
        "\n",
        "\n",
        "\n",
        "\n",
        "\n",
        "\n",
        "\n",
        "\n",
        "\n",
        "\n",
        "\n",
        "\n",
        "\n",
        "\n",
        "\n",
        "\n",
        "\n"
      ],
      "metadata": {
        "id": "W-Anl4nPn17q"
      }
    },
    {
      "cell_type": "code",
      "execution_count": null,
      "metadata": {
        "id": "aBMsC8Ekm91H",
        "colab": {
          "base_uri": "https://localhost:8080/"
        },
        "outputId": "2f26f906-b80c-456a-9ffb-2249139d677c"
      },
      "outputs": [
        {
          "output_type": "stream",
          "name": "stdout",
          "text": [
            "Hello world\n"
          ]
        }
      ],
      "source": [
        "#01. Write a Python program to print \"Hello, World!y\n",
        "\n",
        "print(\"Hello world\")"
      ]
    },
    {
      "cell_type": "code",
      "source": [
        "#2. Write a Python program that displays your name and age8\n",
        "\n",
        "name=input(\"please enter your name:\")\n",
        "age=int(input(\"enter age:\"))\n",
        "print(f\"welcome ,{name}\")\n",
        "print(f\"you are {age} years old\")"
      ],
      "metadata": {
        "colab": {
          "base_uri": "https://localhost:8080/"
        },
        "id": "BiObECQANSXO",
        "outputId": "071bb23b-581a-4102-84df-3784b3d43b18"
      },
      "execution_count": null,
      "outputs": [
        {
          "output_type": "stream",
          "name": "stdout",
          "text": [
            "please enter your name:Madhusmita Thakur\n",
            "enter age:29\n",
            "welcome ,Madhusmita Thakur\n",
            "you are 29 years old\n"
          ]
        }
      ]
    },
    {
      "cell_type": "code",
      "source": [
        "#3. Write code to print all the pre-defined keywords in Python using the keyword library8\n",
        "\n",
        "help(\"keyword\")"
      ],
      "metadata": {
        "colab": {
          "base_uri": "https://localhost:8080/"
        },
        "id": "Yib1wb0XPxkN",
        "outputId": "c6e3c7ae-22ca-46de-ec04-d270e1501f94"
      },
      "execution_count": null,
      "outputs": [
        {
          "output_type": "stream",
          "name": "stdout",
          "text": [
            "Help on module keyword:\n",
            "\n",
            "NAME\n",
            "    keyword - Keywords (from \"Grammar/python.gram\")\n",
            "\n",
            "MODULE REFERENCE\n",
            "    https://docs.python.org/3.11/library/keyword.html\n",
            "    \n",
            "    The following documentation is automatically generated from the Python\n",
            "    source files.  It may be incomplete, incorrect or include features that\n",
            "    are considered implementation detail and may vary between Python\n",
            "    implementations.  When in doubt, consult the module reference at the\n",
            "    location listed above.\n",
            "\n",
            "DESCRIPTION\n",
            "    This file is automatically generated; please don't muck it up!\n",
            "    \n",
            "    To update the symbols in this file, 'cd' to the top directory of\n",
            "    the python source tree and run:\n",
            "    \n",
            "        PYTHONPATH=Tools/peg_generator python3 -m pegen.keywordgen         Grammar/python.gram         Grammar/Tokens         Lib/keyword.py\n",
            "    \n",
            "    Alternatively, you can run 'make regen-keyword'.\n",
            "\n",
            "FUNCTIONS\n",
            "    iskeyword = __contains__(...) method of builtins.frozenset instance\n",
            "        x.__contains__(y) <==> y in x.\n",
            "    \n",
            "    issoftkeyword = __contains__(...) method of builtins.frozenset instance\n",
            "        x.__contains__(y) <==> y in x.\n",
            "\n",
            "DATA\n",
            "    __all__ = ['iskeyword', 'issoftkeyword', 'kwlist', 'softkwlist']\n",
            "    kwlist = ['False', 'None', 'True', 'and', 'as', 'assert', 'async', 'aw...\n",
            "    softkwlist = ['_', 'case', 'match']\n",
            "\n",
            "FILE\n",
            "    /usr/lib/python3.11/keyword.py\n",
            "\n",
            "\n"
          ]
        }
      ]
    },
    {
      "cell_type": "code",
      "source": [
        "#4. Write a program that checks if a given word is a Python keyword.\n",
        "\n",
        "import keyword\n",
        "s=input(\"enter any word\")\n",
        "if keyword.iskeyword(s):\n",
        "  print(\"your enter word is keyword in python\")\n",
        "else:\n",
        "  print(\"your enter word is not in the key word in python\")\n",
        "\n",
        "\n"
      ],
      "metadata": {
        "colab": {
          "base_uri": "https://localhost:8080/"
        },
        "id": "tZJVpXvMQSCF",
        "outputId": "a9b65b75-28a9-428a-e457-c65f74f71856"
      },
      "execution_count": null,
      "outputs": [
        {
          "output_type": "stream",
          "name": "stdout",
          "text": [
            "enter any wordand\n",
            "your enter word is keyword in python\n"
          ]
        }
      ]
    },
    {
      "cell_type": "code",
      "source": [
        "#5. Create a list and tuple in Python, and demonstrate how attempting to change an element works differently for each\n",
        "\n",
        "my_list = [10, 20, 30]\n",
        "my_tuple = (10, 20, 30)\n",
        "my_list[1] = 99\n",
        "print(\"Modified list:\", my_list)\n",
        "my_tuple[1] = 9\n",
        "print(\"modify tuple:\",my_tuple)\n"
      ],
      "metadata": {
        "colab": {
          "base_uri": "https://localhost:8080/",
          "height": 211
        },
        "id": "aw3h4uPQSex3",
        "outputId": "05342900-147c-4c20-97e4-46b9de3ed75b"
      },
      "execution_count": null,
      "outputs": [
        {
          "output_type": "stream",
          "name": "stdout",
          "text": [
            "Modified list: [10, 99, 30]\n"
          ]
        },
        {
          "output_type": "error",
          "ename": "TypeError",
          "evalue": "'tuple' object does not support item assignment",
          "traceback": [
            "\u001b[0;31m---------------------------------------------------------------------------\u001b[0m",
            "\u001b[0;31mTypeError\u001b[0m                                 Traceback (most recent call last)",
            "\u001b[0;32m<ipython-input-30-a8446403cfb3>\u001b[0m in \u001b[0;36m<cell line: 0>\u001b[0;34m()\u001b[0m\n\u001b[1;32m      3\u001b[0m \u001b[0mmy_list\u001b[0m\u001b[0;34m[\u001b[0m\u001b[0;36m1\u001b[0m\u001b[0;34m]\u001b[0m \u001b[0;34m=\u001b[0m \u001b[0;36m99\u001b[0m\u001b[0;34m\u001b[0m\u001b[0;34m\u001b[0m\u001b[0m\n\u001b[1;32m      4\u001b[0m \u001b[0mprint\u001b[0m\u001b[0;34m(\u001b[0m\u001b[0;34m\"Modified list:\"\u001b[0m\u001b[0;34m,\u001b[0m \u001b[0mmy_list\u001b[0m\u001b[0;34m)\u001b[0m\u001b[0;34m\u001b[0m\u001b[0;34m\u001b[0m\u001b[0m\n\u001b[0;32m----> 5\u001b[0;31m \u001b[0mmy_tuple\u001b[0m\u001b[0;34m[\u001b[0m\u001b[0;36m1\u001b[0m\u001b[0;34m]\u001b[0m \u001b[0;34m=\u001b[0m \u001b[0;36m9\u001b[0m\u001b[0;34m\u001b[0m\u001b[0;34m\u001b[0m\u001b[0m\n\u001b[0m\u001b[1;32m      6\u001b[0m \u001b[0mprint\u001b[0m\u001b[0;34m(\u001b[0m\u001b[0;34m\"modify tuple:\"\u001b[0m\u001b[0;34m,\u001b[0m\u001b[0mmy_tuple\u001b[0m\u001b[0;34m)\u001b[0m\u001b[0;34m\u001b[0m\u001b[0;34m\u001b[0m\u001b[0m\n",
            "\u001b[0;31mTypeError\u001b[0m: 'tuple' object does not support item assignment"
          ]
        }
      ]
    },
    {
      "cell_type": "code",
      "source": [
        "#6. Write a function to demonstrate the behavior of mutable and immutable arguments.\n",
        "def modify_arguments(immutable_arg, mutable_arg):\n",
        "    print(\"\\nInside function before modification:\")\n",
        "    print(\"Immutable:\", immutable_arg)\n",
        "    print(\"Mutable:\", mutable_arg)\n",
        "\n",
        "    # Attempt to modify both\n",
        "    immutable_arg += 10        # Creates a new integer object\n",
        "    mutable_arg.append(100)    # Modifies the original list\n",
        "\n",
        "    print(\"\\nInside function after modification:\")\n",
        "    print(\"Immutable:\", immutable_arg)\n",
        "    print(\"Mutable:\", mutable_arg)\n",
        "\n",
        "# Immutable (int) and mutable (list) examples\n",
        "num = 5\n",
        "my_list = [1, 2, 3]\n",
        "\n",
        "modify_arguments(num, my_list)\n",
        "\n",
        "print(\"\\nOutside function after calling modify_arguments:\")\n",
        "print(\"Immutable:\", num)       # Still 5\n",
        "print(\"Mutable:\", my_list)     # Now [1, 2, 3, 100]\n"
      ],
      "metadata": {
        "colab": {
          "base_uri": "https://localhost:8080/"
        },
        "id": "bcMTKHbcYuFC",
        "outputId": "314ea34e-a071-4af2-9905-3b3201af652f"
      },
      "execution_count": null,
      "outputs": [
        {
          "output_type": "stream",
          "name": "stdout",
          "text": [
            "\n",
            "Inside function before modification:\n",
            "Immutable: 5\n",
            "Mutable: [1, 2, 3]\n",
            "\n",
            "Inside function after modification:\n",
            "Immutable: 15\n",
            "Mutable: [1, 2, 3, 100]\n",
            "\n",
            "Outside function after calling modify_arguments:\n",
            "Immutable: 5\n",
            "Mutable: [1, 2, 3, 100]\n"
          ]
        }
      ]
    },
    {
      "cell_type": "code",
      "source": [
        "#7. Write a program that performs basic arithmetic operations on two user-input numbers.\n",
        "# Ask the user for two numbers\n",
        "a = float(input(\"Enter first number: \"))\n",
        "b = float(input(\"Enter second number: \"))\n",
        "\n",
        "# Perform basic arithmetic\n",
        "print(\"Addition:\", a + b)\n",
        "print(\"Subtraction:\", a - b)\n",
        "print(\"Multiplication:\", a * b)\n",
        "\n",
        "# Check for division by zero\n",
        "if b != 0:\n",
        "    print(\"Division:\", a / b)\n",
        "else:\n",
        "    print(\"Division: Cannot divide by zero\")\n",
        "\n",
        "\n"
      ],
      "metadata": {
        "colab": {
          "base_uri": "https://localhost:8080/"
        },
        "id": "m1WR1W4OjsCm",
        "outputId": "fa788c52-9a9e-4ecf-c181-703ca08dc7a2"
      },
      "execution_count": null,
      "outputs": [
        {
          "output_type": "stream",
          "name": "stdout",
          "text": [
            "Enter first number: 12\n",
            "Enter second number: 15\n",
            "Addition: 27.0\n",
            "Subtraction: -3.0\n",
            "Multiplication: 180.0\n",
            "Division: 0.8\n"
          ]
        }
      ]
    },
    {
      "cell_type": "code",
      "source": [
        "#8. Write a program to demonstrate the use of logical operators.\n",
        "\n",
        "# Get  two numbers from the user\n",
        "a = int(input(\"Enter first number: \"))\n",
        "b = int(input(\"Enter second number: \"))\n",
        "\n",
        "# Logical AND\n",
        "print(\"Both numbers are positive:\", a > 0 and b > 0)\n",
        "\n",
        "# Logical OR\n",
        "print(\"At least one number is positive:\", a > 0 or b > 0)\n",
        "\n",
        "# Logical NOT\n",
        "print(\"First number is NOT positive:\", not (a > 0))\n"
      ],
      "metadata": {
        "colab": {
          "base_uri": "https://localhost:8080/"
        },
        "id": "xg6TMK12Cgap",
        "outputId": "6de0e8ac-6d7e-451f-b34e-c2a10f11701c"
      },
      "execution_count": null,
      "outputs": [
        {
          "output_type": "stream",
          "name": "stdout",
          "text": [
            "Enter first number: 1\n",
            "Enter second number: 2\n",
            "Both numbers are positive: True\n",
            "At least one number is positive: True\n",
            "First number is NOT positive: False\n"
          ]
        }
      ]
    },
    {
      "cell_type": "code",
      "source": [
        "#9. Write a Python program to convert user input from string to integer, float, and boolean types.\n",
        "\n",
        "# Get user input as a string\n",
        "user_input = input(\"Enter a value: \")\n",
        "\n",
        "# Convert to integer\n",
        "try:\n",
        "    int_value = int(user_input)\n",
        "    print(\"Integer:\", int_value)\n",
        "except ValueError:\n",
        "    print(\"Cannot convert to integer\")\n",
        "\n",
        "# Convert to float\n",
        "try:\n",
        "    float_value = float(user_input)\n",
        "    print(\"Float:\", float_value)\n",
        "except ValueError:\n",
        "    print(\"Cannot convert to float\")\n",
        "\n",
        "# Convert to boolean\n",
        "# Any non-empty string except \"0\", \"false\", or \"False\" will be considered True\n",
        "bool_value = user_input.lower() not in (\"\", \"0\", \"false\")\n",
        "print(\"Boolean:\", bool_value)\n"
      ],
      "metadata": {
        "colab": {
          "base_uri": "https://localhost:8080/"
        },
        "id": "RK5iTKxeEh2n",
        "outputId": "cf9e53d8-8aa2-4713-c4b6-6b5dca88c5e9"
      },
      "execution_count": null,
      "outputs": [
        {
          "output_type": "stream",
          "name": "stdout",
          "text": [
            "Enter a value: 1\n",
            "Integer: 1\n",
            "Float: 1.0\n",
            "Boolean: True\n"
          ]
        }
      ]
    },
    {
      "cell_type": "code",
      "source": [
        "#10. Write code to demonstrate type casting with list elements.\n",
        "# A list of string numbers\n",
        "str_list = ['1', '2', '3', '4.5', '6.7']\n",
        "\n",
        "# Convert to integers (only if the string is a whole number)\n",
        "int_list = [int(x) for x in str_list if x.isdigit()]\n",
        "print(\"List of integers:\", int_list)\n",
        "\n",
        "# Convert all elements to float\n",
        "float_list = [float(x) for x in str_list]\n",
        "print(\"List of floats:\", float_list)\n",
        "\n",
        "# Convert numbers to strings (reverse)\n",
        "num_list = [1, 2, 3]\n",
        "str_converted = [str(x) for x in num_list]\n",
        "print(\"Numbers as strings:\", str_converted)\n"
      ],
      "metadata": {
        "colab": {
          "base_uri": "https://localhost:8080/"
        },
        "id": "Chub_kK8Fo47",
        "outputId": "8bd4639d-577d-41fa-d33d-73033d658a9b"
      },
      "execution_count": null,
      "outputs": [
        {
          "output_type": "stream",
          "name": "stdout",
          "text": [
            "List of integers: [1, 2, 3]\n",
            "List of floats: [1.0, 2.0, 3.0, 4.5, 6.7]\n",
            "Numbers as strings: ['1', '2', '3']\n"
          ]
        }
      ]
    },
    {
      "cell_type": "code",
      "source": [
        "#11. Write a program that checks if a number is positive, negative, or zero.\n",
        "num = float(input(\"Enter a number: \"))\n",
        "if num > 0:\n",
        "    print(\"The number is positive.\")\n",
        "elif num < 0:\n",
        "    print(\"The number is negative.\")\n",
        "else:\n",
        "    print(\"The number is zero.\")\n"
      ],
      "metadata": {
        "colab": {
          "base_uri": "https://localhost:8080/"
        },
        "id": "vEH-nDoKGSwJ",
        "outputId": "a55b7387-18c1-47b7-b468-df93c328e519"
      },
      "execution_count": null,
      "outputs": [
        {
          "output_type": "stream",
          "name": "stdout",
          "text": [
            "Enter a number: -5\n",
            "The number is negative.\n"
          ]
        }
      ]
    },
    {
      "cell_type": "code",
      "source": [
        "#12. Write a for loop to print numbers from 1 to 10.\n",
        "for i in range(1, 11):\n",
        "    print(i)\n"
      ],
      "metadata": {
        "colab": {
          "base_uri": "https://localhost:8080/"
        },
        "id": "TXRsb3iwGyPm",
        "outputId": "5185fda2-4556-42b1-ae04-beb90df0c145"
      },
      "execution_count": null,
      "outputs": [
        {
          "output_type": "stream",
          "name": "stdout",
          "text": [
            "1\n",
            "2\n",
            "3\n",
            "4\n",
            "5\n",
            "6\n",
            "7\n",
            "8\n",
            "9\n",
            "10\n"
          ]
        }
      ]
    },
    {
      "cell_type": "code",
      "source": [
        "#13. Write a Python program to find the sum of all even numbers between 1 and 50.\n",
        "\n",
        "total = 0\n",
        "for i in range(1, 51):\n",
        "    if i % 2 == 0:\n",
        "        total += i\n",
        "print(\"Sum of even numbers from 1 to 50 is:\", total)\n"
      ],
      "metadata": {
        "colab": {
          "base_uri": "https://localhost:8080/"
        },
        "id": "5Gln6bMnHBui",
        "outputId": "64b1d0cd-5206-4869-8844-bd605278039a"
      },
      "execution_count": null,
      "outputs": [
        {
          "output_type": "stream",
          "name": "stdout",
          "text": [
            "Sum of even numbers from 1 to 50 is: 650\n"
          ]
        }
      ]
    },
    {
      "cell_type": "code",
      "source": [
        "#14. Write a program to reverse a string using a while loop.\n",
        "text = input(\"Enter a string: \")\n",
        "reversed_text = \"\"\n",
        "index = len(text) - 1\n",
        "while index >= 0:\n",
        "    reversed_text += text[index]\n",
        "    index -= 1\n",
        "print(\"Reversed string:\", reversed_text)\n"
      ],
      "metadata": {
        "colab": {
          "base_uri": "https://localhost:8080/"
        },
        "id": "_L5f1ET3H2wZ",
        "outputId": "dbc31668-531e-42ac-9648-acfc04e1b7ae"
      },
      "execution_count": null,
      "outputs": [
        {
          "output_type": "stream",
          "name": "stdout",
          "text": [
            "Enter a string: sumi\n",
            "Reversed string: imus\n"
          ]
        }
      ]
    },
    {
      "cell_type": "code",
      "source": [
        "#15. Write a Python program to calculate the factorial of a number provided by the user using a while loop.\n",
        "num = int(input(\"Enter a number: \"))\n",
        "fact = 1\n",
        "i = 1\n",
        "\n",
        "while i <= num:\n",
        "    fact *= i\n",
        "    i += 1\n",
        "\n",
        "print(\"Factorial is:\", fact)\n",
        "\n"
      ],
      "metadata": {
        "colab": {
          "base_uri": "https://localhost:8080/"
        },
        "id": "PqmyrRd8IoGb",
        "outputId": "8286afeb-d9b1-4707-df13-3407ae1cbb18"
      },
      "execution_count": null,
      "outputs": [
        {
          "output_type": "stream",
          "name": "stdout",
          "text": [
            "Enter a number: 5\n",
            "Factorial is: 120\n"
          ]
        }
      ]
    }
  ]
}